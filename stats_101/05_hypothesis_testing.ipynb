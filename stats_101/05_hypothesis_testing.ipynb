{
 "cells": [
  {
   "cell_type": "markdown",
   "metadata": {},
   "source": [
    "# Hypothesis testing\n",
    "The goal of hypothesis testing is to answer a simple **yes / no** question about a population parameter. There are two types of hypothesis, $H_{0}$ the **null hypothesis** and $H_{A}$ the **Alternate hypothesis**.\n",
    "\n",
    "The steps followed are:\n",
    " - set up the hypothesis (null, alternate)\n",
    " - choose $\\alpha$ level (confidence interval)\n",
    " - determine rejection region (on the z curve)\n",
    " - compute the test statistic (p value based on z score)\n",
    " - make a decision\n",
    "\n",
    "**Rules in hypothesis testing**\n",
    " 1. No *equal* sign in $H_{A}$. Only $\\ne, <, >$ signs\n",
    " 2. Put what you want to test in $H_{A}$, unless you violate rule 1, then you put that in $H_{0}$\n",
    " 3. Believe $H_{0}$ unless the dataset shows otherwise\n",
    " 4. when we make our decision, we either reject $H_{0}$ or fail to reject it."
   ]
  },
  {
   "cell_type": "markdown",
   "metadata": {},
   "source": [
    "### Examples of formulating hypothesis\n",
    "1. Nitrate levels are unsafe if > 10ppm. Test if out water is unsafe on average.\n",
    "  - $H_{0} => \\mu \\le 10ppm$\n",
    "  - $H_{A} => \\mu > 10 ppm$\n",
    "  \n",
    "2. Test if a coin is fair.\n",
    "  - $H_{0} => p(h)=0.5$\n",
    "  - $H_{A} => p(h)\\ne 0.5$ This is because alt hypothesis should not have equal sign."
   ]
  },
  {
   "cell_type": "markdown",
   "metadata": {},
   "source": [
    "### Type 1, 2 errors\n",
    "For a jury trial, our motto is **innocent until proven guilty**. Hence\n",
    " - $H_{0} => innocent$ as we reject H0 or fail to do so\n",
    " - $H_{A} => guilty$\n",
    " \n",
    " - Type 1 error: **False positive**\n",
    "   - we reject $H_{0}$ when it is still true\n",
    "   - $\\alpha$ = p(type 1 error) = p(rejecting $H_{0}$ when it is still true)\n",
    " - Type 2 error: **False negative**\n",
    "   - $\\beta$ = p(type 2 error) = p(failing to reject $H_{0}$ when $H_{A}$ is true)\n",
    "\n",
    "In practice, we fix $\\alpha = 0.5$ and calculate $\\beta' = (1-\\beta)$"
   ]
  },
  {
   "cell_type": "code",
   "execution_count": null,
   "metadata": {},
   "outputs": [],
   "source": []
  }
 ],
 "metadata": {
  "kernelspec": {
   "display_name": "Python 3",
   "language": "python",
   "name": "python3"
  },
  "language_info": {
   "codemirror_mode": {
    "name": "ipython",
    "version": 3
   },
   "file_extension": ".py",
   "mimetype": "text/x-python",
   "name": "python",
   "nbconvert_exporter": "python",
   "pygments_lexer": "ipython3",
   "version": "3.6.5"
  }
 },
 "nbformat": 4,
 "nbformat_minor": 2
}

{
 "cells": [
  {
   "cell_type": "markdown",
   "metadata": {},
   "source": [
    "# Data collection methodologies"
   ]
  },
  {
   "cell_type": "markdown",
   "metadata": {},
   "source": [
    "In scientific studies, data collection can fall under two broad categories\n",
    "\n",
    " - **observational study** - where data is recorded without interfering with the process under study. These can be of 3 basic types\n",
    "  - **sample survey** - provides info about a population at a particular point in time\n",
    "  - **prospective study** - describes the population at present using sample survey and proceeds to follow forward in time to record specific outcomes\n",
    "  - **retrospective study** - describes the population at present using sample survey and records specific occurrence that have already taken place\n",
    " - **experimental study** - where explanatory variables are actively manipulated and the effects on response variables are studied."
   ]
  },
  {
   "cell_type": "code",
   "execution_count": null,
   "metadata": {
    "collapsed": true
   },
   "outputs": [],
   "source": []
  }
 ],
 "metadata": {
  "kernelspec": {
   "display_name": "Python 3",
   "language": "python",
   "name": "python3"
  },
  "language_info": {
   "codemirror_mode": {
    "name": "ipython",
    "version": 3
   },
   "file_extension": ".py",
   "mimetype": "text/x-python",
   "name": "python",
   "nbconvert_exporter": "python",
   "pygments_lexer": "ipython3",
   "version": "3.6.0"
  }
 },
 "nbformat": 4,
 "nbformat_minor": 2
}

{
 "cells": [
  {
   "cell_type": "markdown",
   "metadata": {},
   "source": [
    "# Probability distributions - 1\n",
    "\n",
    "**ToC**\n",
    " - [Axioms of probability](#Axioms-of-probability)\n",
    " - [Conditional probability](#Conditional-probability)\n",
    "   - [Bayesian conditional probability](#Bayesian-conditional-probability)\n",
    " - [Random variables](#Random-variables)\n",
    "   - [Properties of discrete random variables](#Properties-of-discrete-random-variables)\n",
    "   - [Binomial and Poisson discrete random variables](#Binomial-and-Poisson-discrete-random-variables)\n",
    "\n",
    "### Axioms of probability\n",
    "$$\n",
    "0 \\leq P(A) \\leq 1\n",
    "\\\\\n",
    "P(A) + P(\\bar A) = 1\n",
    "\\\\\n",
    "P(A \\verb ! or ! B) = P(A) + P(B)\n",
    "$$"
   ]
  },
  {
   "cell_type": "markdown",
   "metadata": {},
   "source": [
    "Probability ranges from 0 to 1. The sum of P(A) and the opposite of A occuring is 1. For mutually exclusive events A and B, the Probability of either A or B ocurring is sum of their probabilities.\n",
    "\n",
    "**Mutually exclusive**: Two events are considered mutually exclusive, if when an event is performed once, the occurrence of one of the events excludes the possibility of another.\n",
    "\n",
    "For two independent events, probabilities of their union and intersection can be represented as"
   ]
  },
  {
   "cell_type": "markdown",
   "metadata": {},
   "source": [
    "$$\n",
    "P(A \\cup B) = P(A) + P(B) - P(A \\cap B)\n",
    "$$"
   ]
  },
  {
   "cell_type": "markdown",
   "metadata": {},
   "source": [
    "If A and B are mutually exclusive, then $P(A \\cap B) = 0$\n",
    "\n",
    "The reason we negate `P(A intersection B)` can be seen from the venn diagram below. Probabilities of A and B are (0.5 and 0.2). The probability of both A and B ocurring is 0.05. Thus to not double count the intersection, we negate it."
   ]
  },
  {
   "cell_type": "code",
   "execution_count": 4,
   "metadata": {},
   "outputs": [
    {
     "data": {
      "text/plain": [
       "<matplotlib_venn._common.VennDiagram at 0x11a436ef0>"
      ]
     },
     "execution_count": 4,
     "metadata": {},
     "output_type": "execute_result"
    },
    {
     "data": {
      "image/png": "[encoded data removed]",
      "text/plain": [
       "<matplotlib.figure.Figure at 0x1101021d0>"
      ]
     },
     "metadata": {},
     "output_type": "display_data"
    }
   ],
   "source": [
    "import matplotlib.pyplot as plt\n",
    "%matplotlib inline\n",
    "from matplotlib_venn import venn2\n",
    "venn2(subsets = (0.45, 0.15, 0.05), set_labels = ('A', 'B'))"
   ]
  },
  {
   "cell_type": "markdown",
   "metadata": {},
   "source": [
    "## Conditional Probability\n",
    "Generally, conditional probability is more helpful in explaining a situtation than general probabilities.\n",
    "\n",
    "Given two events `A` and `B` with non zero probabilities, then the probability of A occurring, given that B has occurs is\n",
    "\n",
    "$$\n",
    "P(A|B) = \\frac{P(A \\cap B)}{P(B)}\n",
    "$$\n",
    "\n",
    "and\n",
    "$$\n",
    "P(B|A) = \\frac{P(A \\cap B)}{P(A)}\n",
    "$$"
   ]
  },
  {
   "cell_type": "markdown",
   "metadata": {},
   "source": [
    "The $P(A/B)$ probability of A given that B occurs, is the probability of A and B occurring $P(A \\cap B)$ to the probability of B occurring $P(B)$. Thus if `A` and `B` are `mutually exclusive`, then there is no conditional probability."
   ]
  },
  {
   "cell_type": "markdown",
   "metadata": {
    "collapsed": true
   },
   "source": [
    "### Bayesian conditional probability\n",
    "The Bayesian theorem builds on conditional probability, specifically on prior and posterior probabilities. It states that, if `A` and `B` are any events whose probabilities are not 0 or 1, then:\n",
    "\n",
    "$$\n",
    "P(A|B) = \\frac{P(B|A)P(A)}{P(B|A)P(A) + P(B|\\bar A)P(\\bar A)}\n",
    "$$"
   ]
  },
  {
   "cell_type": "markdown",
   "metadata": {},
   "source": [
    "In reality, we expand the $\\bar A$ case. Thus if $A_1 ,... A_k$ are mutually exclusive `states of nature` and if $B_1 .. B_m$ are `m` possible mutually exclusive observable events, then,"
   ]
  },
  {
   "cell_type": "markdown",
   "metadata": {},
   "source": [
    "$$\n",
    "P(A_i | B_j) = \\frac{P(B_j | A_i)P(A_i)}{P(B_j | A_1)P(A_1) + P(B_j | A_2)P(A_2) + ... + P(B_j | A_k)P(A_k)}\n",
    "$$"
   ]
  },
  {
   "cell_type": "markdown",
   "metadata": {},
   "source": [
    "## Random variables\n",
    "When the objective is to predict the category (qualitative, such as predicting political party affiliation), we term the it as predicting a **`qualitative random variable`**. On the other hand, if we are predicting a quantitative value (number of cars sold), we term it a **`quantitative random variable`**.\n",
    "\n",
    "When the observations of a `quantitative random variable` can assume values in a continuous interval (such as predicting temperature), it is called a **`continuous random variable`**.\n",
    "\n",
    "### Properties of discrete random variable\n",
    "Say, we are predicting the probability of getting heads in two coin tosses P(y). Then \n",
    "\n",
    " - probability of y ranges from 0 and 1\n",
    " - sum of probabilities of all values of y = 1\n",
    " - probabilities of outcomes of discrete random variable is additive. Thus probability of y = 1 or 2 is P(1) + P(2)\n",
    " \n",
    "### Binomial and Poisson discrete random variables\n",
    "A **binomial** experiment is one in which the outcome is one of two possible outcomes. Coin tosses, accept / reject, pass / fail, infected / uninfected, these are the kinds of studies that involve a binomial experiment. Thus an experiment is of binomial in nature if\n",
    " - experiment has `n` identical trials\n",
    " - each trial results in 1 of 2 outcomes ( success and failure )\n",
    " - probability of one of the outcome, say success remains the same for all trials\n",
    " - trials are independent of each other\n",
    " - the random variable `y` is the number of successes observed in `n` trials."
   ]
  },
  {
   "cell_type": "markdown",
   "metadata": {},
   "source": [
    "The probability of observing `y` success in `n` trials of a binomial experiment is\n",
    "$$\n",
    "P(y) = \\frac{n!}{y!(n-y)!}\\pi^y (1-\\pi)^{n-y}\n",
    "$$\n",
    "\n",
    "where \n",
    " - n = number of trials\n",
    " - $\\pi$ = probability of success in a single trial\n",
    " - $1-\\pi$ = probability of failure in a single tiral\n",
    " - `y` = number of successes in `n` trials\n",
    " - $n!$ (n factorial) = $n(n-1)(n-2)..(n-(n-1))$"
   ]
  },
  {
   "cell_type": "code",
   "execution_count": 7,
   "metadata": {},
   "outputs": [],
   "source": [
    "import math\n",
    "\n",
    "def bin_prob(n,y,pi):\n",
    "    a = math.factorial(n)/(math.factorial(y)*math.factorial(n-y))\n",
    "    b = math.pow(pi, y) * math.pow((1-pi), (n-y))\n",
    "    p_y = a*b\n",
    "    return p_y"
   ]
  },
  {
   "cell_type": "code",
   "execution_count": 11,
   "metadata": {},
   "outputs": [
    {
     "data": {
      "text/plain": [
       "0.24282889614926761"
      ]
     },
     "execution_count": 11,
     "metadata": {},
     "output_type": "execute_result"
    }
   ],
   "source": [
    "bin_prob(20,17,0.85)"
   ]
  },
  {
   "cell_type": "code",
   "execution_count": 17,
   "metadata": {},
   "outputs": [
    {
     "name": "stdout",
     "output_type": "stream",
     "text": [
      "1  3.768624294090281e-15\n",
      "2  2.028776078318601e-13\n",
      "3  6.897838666283242e-12\n",
      "4  1.6612294787965472e-10\n",
      "5  3.012362788217739e-09\n",
      "6  4.267513949975129e-08\n",
      "7  4.836515809971812e-07\n",
      "8  4.45362497501571e-06\n",
      "9  3.364961092234091e-05\n",
      "10  0.00020974924141592494\n",
      "11  0.0010805263951729465\n",
      "12  0.004592237179485021\n",
      "13  0.01601395529256315\n",
      "14  0.04537287332892893\n",
      "15  0.1028451795455722\n",
      "16  0.18212167211195074\n",
      "17  0.24282889614926761\n",
      "18  0.22933840191875274\n",
      "19  0.13679834500416826\n",
      "20  0.03875953108451433\n"
     ]
    }
   ],
   "source": [
    "x =[]\n",
    "y =[]\n",
    "cum_prob = []\n",
    "for i in range(1,21):\n",
    "    x.append(i)\n",
    "    p_y = bin_prob(20,i,0.85)\n",
    "    print(str(i) + \"  \" + str(p_y))\n",
    "    y.append(p_y)\n",
    "    \n",
    "    if i==1:\n",
    "        cum_prob.append(p_y)\n",
    "    else:\n",
    "        cum_prob.append(cum_prob[i-2] + p_y)"
   ]
  },
  {
   "cell_type": "code",
   "execution_count": 21,
   "metadata": {},
   "outputs": [
    {
     "data": {
      "text/plain": [
       "<matplotlib.text.Text at 0x11a54e0b8>"
      ]
     },
     "execution_count": 21,
     "metadata": {},
     "output_type": "execute_result"
    },
    {
     "data": {
      "image/png": "[encoded data removed]",
      "text/plain": [
       "<matplotlib.figure.Figure at 0x119b98cf8>"
      ]
     },
     "metadata": {},
     "output_type": "display_data"
    }
   ],
   "source": [
    "import matplotlib.pyplot as plt\n",
    "%matplotlib inline\n",
    "\n",
    "fig,ax = plt.subplots(1,2, figsize=(13,5))\n",
    "ax[0].plot(x,y)\n",
    "ax[0].set_title('Probability of y successes')\n",
    "ax[0].set_xlabel('num of successes in 20 trials')\n",
    "ax[0].set_ylabel('probability of successes')\n",
    "\n",
    "ax[1].plot(x,cum_prob)\n",
    "ax[1].set_title('Cumulative Probability of y successes')\n",
    "ax[1].set_xlabel('num of successes in 20 trials')\n",
    "ax[1].set_ylabel('cumulative probability of successes')\n"
   ]
  },
  {
   "cell_type": "code",
   "execution_count": null,
   "metadata": {
    "collapsed": true
   },
   "outputs": [],
   "source": []
  }
 ],
 "metadata": {
  "kernelspec": {
   "display_name": "Python 3",
   "language": "python",
   "name": "python3"
  },
  "language_info": {
   "codemirror_mode": {
    "name": "ipython",
    "version": 3
   },
   "file_extension": ".py",
   "mimetype": "text/x-python",
   "name": "python",
   "nbconvert_exporter": "python",
   "pygments_lexer": "ipython3",
   "version": "3.6.1"
  }
 },
 "nbformat": 4,
 "nbformat_minor": 2
}

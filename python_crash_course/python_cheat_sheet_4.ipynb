{
 "cells": [
  {
   "cell_type": "markdown",
   "metadata": {},
   "source": [
    "# Python Cheat Sheet 4 - type system, control flow"
   ]
  },
  {
   "cell_type": "markdown",
   "metadata": {
    "toc": true
   },
   "source": [
    "<h1>Table of Contents<span class=\"tocSkip\"></span></h1>\n",
    "<div class=\"toc\"><ul class=\"toc-item\"><li><span><a href=\"#Python's-type-hierarchy\" data-toc-modified-id=\"Python's-type-hierarchy-1\">Python's type hierarchy</a></span></li></ul></div>"
   ]
  },
  {
   "cell_type": "markdown",
   "metadata": {},
   "source": [
    "## Python's type hierarchy\n",
    "Under **numbers**, Python has two categories:\n",
    "\n",
    " - Integral\n",
    "   - Integers\n",
    "   - Boolean, yes these are integers (0,1)\n",
    " - Non-integral\n",
    "   - Floats, which are `c doubles`\n",
    "   - Complex\n",
    "   - Decimals\n",
    "   - Fractions, to better represent numbers with repeating decimals\n",
    "   \n",
    "Python's **Collections** type hierarchy\n",
    " - Sequences\n",
    "   - Mutable\n",
    "     - Lists\n",
    "   - Immutable\n",
    "     - Tuples\n",
    "     - Strings\n",
    " - Sets\n",
    "   - Mutable\n",
    "     - Sets\n",
    "   - Immutable\n",
    "     - Frozen Sets\n",
    " - Mappings\n",
    "   - Dictionaries\n",
    "\n",
    "Python's **Callables and Singletons**\n",
    " - Callables\n",
    "   - User defined funcitons\n",
    "   - generators\n",
    "   - classes\n",
    "   - instance methods\n",
    "   - class instances (__call__())\n",
    "   - Std. library built-in functions (e.g.: len(), open())\n",
    "   - Std. library built-in methods (e.g.: my_list.append())\n",
    " - Singletons - only one instance of these can exist.\n",
    "   - None\n",
    "   - NotImplemented\n",
    "   - Ellipsis (...) -> Find more about this."
   ]
  },
  {
   "cell_type": "code",
   "execution_count": null,
   "metadata": {},
   "outputs": [],
   "source": []
  }
 ],
 "metadata": {
  "kernelspec": {
   "display_name": "Python 3",
   "language": "python",
   "name": "python3"
  },
  "language_info": {
   "codemirror_mode": {
    "name": "ipython",
    "version": 3
   },
   "file_extension": ".py",
   "mimetype": "text/x-python",
   "name": "python",
   "nbconvert_exporter": "python",
   "pygments_lexer": "ipython3",
   "version": "3.7.3"
  },
  "toc": {
   "base_numbering": 1,
   "nav_menu": {},
   "number_sections": false,
   "sideBar": false,
   "skip_h1_title": true,
   "title_cell": "Table of Contents",
   "title_sidebar": "Contents",
   "toc_cell": true,
   "toc_position": {},
   "toc_section_display": true,
   "toc_window_display": false
  }
 },
 "nbformat": 4,
 "nbformat_minor": 2
}

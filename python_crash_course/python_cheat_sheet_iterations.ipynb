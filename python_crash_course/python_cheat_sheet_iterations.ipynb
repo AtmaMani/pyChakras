{
 "cells": [
  {
   "cell_type": "markdown",
   "metadata": {},
   "source": [
    "# Python cheat sheet - iterations\n",
    "\n",
    "**Table of contents**\n",
    "\n",
    " - [Loops](#loops)\n",
    "   - [for loop](#for-loop)\n",
    "   - [while loop](#while-loop)\n",
    " - [Comprehensions](#Comprehensions)\n",
    "   - [List comprehension](#List-comprehension)\n",
    "   - [Dictionary comprehension](#Dictionary-comprehension)"
   ]
  },
  {
   "cell_type": "code",
   "execution_count": null,
   "metadata": {
    "collapsed": true
   },
   "outputs": [],
   "source": []
  }
 ],
 "metadata": {
  "kernelspec": {
   "display_name": "Python 3",
   "language": "python",
   "name": "python3"
  },
  "language_info": {
   "codemirror_mode": {
    "name": "ipython",
    "version": 3
   },
   "file_extension": ".py",
   "mimetype": "text/x-python",
   "name": "python",
   "nbconvert_exporter": "python",
   "pygments_lexer": "ipython3",
   "version": "3.5.2"
  }
 },
 "nbformat": 4,
 "nbformat_minor": 0
}

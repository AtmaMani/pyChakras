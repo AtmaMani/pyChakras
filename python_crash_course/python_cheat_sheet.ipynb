{
 "cells": [
  {
   "cell_type": "markdown",
   "metadata": {},
   "source": [
    "# Python cheat sheet\n",
    "A set of reference materials to help you in those occassional bouts of forgetfulness."
   ]
  },
  {
   "cell_type": "markdown",
   "metadata": {},
   "source": [
    "## Functions\n",
    "Specify optional parameters in the end. Specify the default values for optional parameters with = value notation\n",
    "\n",
    "    def func_name(arg1, arg2=None):\n",
    "        operations\n",
    "        return value"
   ]
  },
  {
   "cell_type": "code",
   "execution_count": 1,
   "metadata": {
    "collapsed": false
   },
   "outputs": [
    {
     "data": {
      "text/plain": [
       "11"
      ]
     },
     "execution_count": 1,
     "metadata": {},
     "output_type": "execute_result"
    }
   ],
   "source": [
    "def func_add_numbers(num1, num2=10):\n",
    "    return (num1 + num2)\n",
    "\n",
    "func_add_numbers(1)"
   ]
  },
  {
   "cell_type": "markdown",
   "metadata": {},
   "source": [
    "## Classes\n",
    "Everything is an object in Python including native types. You define class names with camel casing.\n",
    "You define the constructor with special name `__init__()`. The fields (private) are denoted with `_variable_name` specification and properties are decorated with `@property` decorator.\n",
    "\n",
    "Fields and properties are accessed within the class using `self.name` notation. This helps differentiate a class field / property from a local variable or method argument of the same name.\n",
    "\n",
    "### A simple class\n",
    "    class myClass:\n",
    "        _local_variables = \"value\"\n",
    "        \n",
    "        def __init__(self, args):  #constructor\n",
    "            statements\n",
    "            self._local_variables = args   # assign values to fields\n",
    "        \n",
    "        def func_1(self, args):\n",
    "            statements\n",
    "\n",
    "You use this method by instantiating an object.\n",
    "\n",
    "    obj1 = myClass(args_defined_in_constructor)"
   ]
  },
  {
   "cell_type": "code",
   "execution_count": null,
   "metadata": {
    "collapsed": true
   },
   "outputs": [],
   "source": [
    "class imageryObject:\n",
    "    _location"
   ]
  },
  {
   "cell_type": "markdown",
   "metadata": {},
   "source": [
    "## Exception handling\n",
    "Exceptions are classes. You can define your own by inheriting from `Exception` class.\n",
    "\n",
    "    try:\n",
    "        statements\n",
    "    \n",
    "    except Exception_type1 as e1:\n",
    "        handling statements\n",
    "    \n",
    "    except Exception_type2 as e2:\n",
    "        specific handling statements\n",
    "    \n",
    "    except Exception as generic_ex:\n",
    "        generic handling statements\n",
    "    \n",
    "    else:\n",
    "        some more statements\n",
    "    \n",
    "    finally:\n",
    "        default statements which will always be executed"
   ]
  },
  {
   "cell_type": "code",
   "execution_count": null,
   "metadata": {
    "collapsed": true
   },
   "outputs": [],
   "source": []
  }
 ],
 "metadata": {
  "kernelspec": {
   "display_name": "Python 3",
   "language": "python",
   "name": "python3"
  },
  "language_info": {
   "codemirror_mode": {
    "name": "ipython",
    "version": 3
   },
   "file_extension": ".py",
   "mimetype": "text/x-python",
   "name": "python",
   "nbconvert_exporter": "python",
   "pygments_lexer": "ipython3",
   "version": "3.5.2"
  }
 },
 "nbformat": 4,
 "nbformat_minor": 0
}

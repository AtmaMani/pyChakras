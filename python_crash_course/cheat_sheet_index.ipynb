{
 "cells": [
  {
   "cell_type": "markdown",
   "metadata": {},
   "source": [
    "![](cheat_sheets.jpg)"
   ]
  },
  {
   "cell_type": "markdown",
   "metadata": {},
   "source": [
    "# All my cheat sheets\n",
    "\n",
    "## Python\n",
    " - [Python basics, comprehensions](python_cheat_sheet_1.html)\n",
    " - [Python object oriented and exception handling](python_cheat_sheet_2.html)\n",
    " - [Productive in Python - map reduce lambdas](python_cheat_sheet_3.html)"
   ]
  },
  {
   "cell_type": "markdown",
   "metadata": {},
   "source": [
    "## Conda\n",
    " - [Conda basics](conda_cheat_sheet.html)"
   ]
  },
  {
   "cell_type": "markdown",
   "metadata": {},
   "source": [
    "## Numpy\n",
    " - [Numpy basics](numpy_cheat_sheet_1.html)\n",
    " - [Numpy array slicing dicing searching](numpy_cheat_sheet_2.html)\n",
    " \n",
    "## Pandas\n",
    " - [Pandas basics](pandas_cheat_sheet_1.html)\n",
    " - [Intermediate - multilevel index, missing data, aggregation, merge join concat](pandas_cheat_sheet_2.html)\n",
    " - [Productivity with Pandas](pandas_cheat_sheet_3.html)"
   ]
  },
  {
   "cell_type": "markdown",
   "metadata": {},
   "source": [
    "## Matplotlib\n",
    " - [matplotlib basics](matplotlib_1.html)\n",
    " - [advanced matplotlib plotting](matplotlib_2.html)"
   ]
  },
  {
   "cell_type": "markdown",
   "metadata": {},
   "source": [
    "## Seaborn\n",
    " - [Seaborn basics](seaborn_cheat_sheet_1.html)\n",
    " - [Seaborn categorical plotting](seaborn_cheat_sheet_2.html)\n",
    " - [Seaborn matrix and regression plots](seaborn_cheat_sheet_3.html)"
   ]
  },
  {
   "cell_type": "markdown",
   "metadata": {},
   "source": [
    "## R\n",
    " - [R basics](r_cheat_sheet_1.html)"
   ]
  }
 ],
 "metadata": {
  "kernelspec": {
   "display_name": "Python 3",
   "language": "python",
   "name": "python3"
  },
  "language_info": {
   "codemirror_mode": {
    "name": "ipython",
    "version": 3
   },
   "file_extension": ".py",
   "mimetype": "text/x-python",
   "name": "python",
   "nbconvert_exporter": "python",
   "pygments_lexer": "ipython3",
   "version": "3.6.1"
  }
 },
 "nbformat": 4,
 "nbformat_minor": 2
}

{
 "cells": [
  {
   "cell_type": "code",
   "execution_count": 1,
   "metadata": {},
   "outputs": [],
   "source": [
    "import json\n",
    "import requests\n",
    "import webbrowser\n",
    "import base64"
   ]
  },
  {
   "cell_type": "markdown",
   "metadata": {},
   "source": [
    "## Authorization using OAuth"
   ]
  },
  {
   "cell_type": "code",
   "execution_count": 11,
   "metadata": {},
   "outputs": [],
   "source": [
    "client_id='9t6zM4G0Vvy9BGCU'\n",
    "client_secret='5bcc31923190474a8be0d68a3d6ad526'\n",
    "# redirect_url='https://localhost/'\n",
    "redirect_url = 'urn:ietf:wg:oauth:2.0:oob'\n",
    "scope='content'"
   ]
  },
  {
   "cell_type": "code",
   "execution_count": 24,
   "metadata": {},
   "outputs": [
    {
     "data": {
      "text/plain": [
       "True"
      ]
     },
     "execution_count": 24,
     "metadata": {},
     "output_type": "execute_result"
    }
   ],
   "source": [
    "auth_url = (f'https://www.arcgis.com/sharing/rest/oauth2/authorize?' +\n",
    "            f'client_id={client_id}&redirect_uri={redirect_url}&scope={scope}' +\n",
    "            f'&response_type=code&response_mode=fragment &nonce=7nmezuj0uu9')\n",
    "\n",
    "webbrowser.open_new(auth_url)"
   ]
  },
  {
   "cell_type": "code",
   "execution_count": 25,
   "metadata": {},
   "outputs": [],
   "source": [
    "auth_code = \"JhHtZTNZ1ZMcINdelb3Q5m3_ERqJbFiMx05GZN5EB97YdUj1kHfXKk4-2yRCRtpQaJvLiA0B62Gi6Vw4q8Z9fzhKFt9UsXAWosIaE7YV3h8XcLq_rPUpPRaBpaoN21igH5YFleMJCnZHOHRFq3GhIN34Jm2Lks58cq0sz3x2uLV92R4y4ohmkz1LZmsV-_ZKZZabrdSWXBoPM3fcxc2How..\""
   ]
  },
  {
   "cell_type": "markdown",
   "metadata": {},
   "source": [
    "## Exchange auth_code for access_token"
   ]
  },
  {
   "cell_type": "code",
   "execution_count": 26,
   "metadata": {},
   "outputs": [
    {
     "data": {
      "text/plain": [
       "{'access_token': 'w8h5y0JZAgJtIxrsuxq2qWpjhGCSY2eoUt3cXkb4qWZTNloIGR10Gt-aPORGpr-_X3MsxS39-2CJ2Gy5oquh59WswPATYpykdDbJ6tHhWP0qU668oz8IN1-m6XgbMLHUp4pG1hJ5YOUK-3aPotcsRlQQ8ZXoX6YB_OT6CFvLsRO7d2C9dWmnJjf3VfdYJ9UTGU_6BEMl3wqQWUnihGPzCtxAfYMroWRWiYiQ322vETiUPhF-5CRzOki8-QD6E-9mgiRBeOjt3UIyGSEhBTnjPQ..',\n",
       " 'expires_in': 1800,\n",
       " 'username': 'amani_geosaurus',\n",
       " 'ssl': True,\n",
       " 'refresh_token': 'vppolxUfIlkpD5qCInsQMZxk2QAYbMOvwyPMghfASB7bP_fkprDoPvqbSOYFtaVFYUhccTCVXx7I5FYnq7mpJ138TpZzirYzb8QzcJhJpWvGKKYsBsJvmLFyrRPoiNsMnysw_mb3M2ZlZJKEScXSGo1NKkEqG3QWo9Ep7G-am2WVLVK1nGIuERSWmQySCZ_OX3JADjYRGk0VJkekjbGF4Woa_CvydOwrJpDM4_RZHTnRx2i0foHnf1epLGnHbM0jPfd_g_acEMzcUrTU0YPAzW3kqT8ArwkrXT7nx8dKxsJlFs1m4Fne9pqb2UzDO78k10ngBylJnIKAS3niD9YrxKlvBPPP-PklT_RpIjiEcHBPmDGqDS04JmTNgUVI31nzMfF1a3RmPatRMVHcD86bjY_5A5vG9v_9sfaelLce1CvLtmiF3EhIPpHghJC4ffnvoaJcmT1Au5CRb2eMG6WRuQeSZs7BlCDb-K3QFHR6rik.',\n",
       " 'refresh_token_expires_in': 1209599}"
      ]
     },
     "execution_count": 26,
     "metadata": {},
     "output_type": "execute_result"
    }
   ],
   "source": [
    "exchange_url = 'https://www.arcgis.com/sharing/rest/oauth2/token/'\n",
    "\n",
    "resp = requests.post(url=exchange_url, \n",
    "                     data={'grant_type':'authorization_code',\n",
    "                           'code':auth_code,\n",
    "                           'redirect_uri':redirect_url,\n",
    "                          'client_id':client_id,\n",
    "                          'client_secret':client_secret})\n",
    "r2 = resp.json()\n",
    "r2"
   ]
  },
  {
   "cell_type": "code",
   "execution_count": 27,
   "metadata": {},
   "outputs": [
    {
     "data": {
      "text/plain": [
       "'vppolxUfIlkpD5qCInsQMZxk2QAYbMOvwyPMghfASB7bP_fkprDoPvqbSOYFtaVFYUhccTCVXx7I5FYnq7mpJ138TpZzirYzb8QzcJhJpWvGKKYsBsJvmLFyrRPoiNsMnysw_mb3M2ZlZJKEScXSGo1NKkEqG3QWo9Ep7G-am2WVLVK1nGIuERSWmQySCZ_OX3JADjYRGk0VJkekjbGF4Woa_CvydOwrJpDM4_RZHTnRx2i0foHnf1epLGnHbM0jPfd_g_acEMzcUrTU0YPAzW3kqT8ArwkrXT7nx8dKxsJlFs1m4Fne9pqb2UzDO78k10ngBylJnIKAS3niD9YrxKlvBPPP-PklT_RpIjiEcHBPmDGqDS04JmTNgUVI31nzMfF1a3RmPatRMVHcD86bjY_5A5vG9v_9sfaelLce1CvLtmiF3EhIPpHghJC4ffnvoaJcmT1Au5CRb2eMG6WRuQeSZs7BlCDb-K3QFHR6rik.'"
      ]
     },
     "execution_count": 27,
     "metadata": {},
     "output_type": "execute_result"
    }
   ],
   "source": [
    "r2['refresh_token']"
   ]
  },
  {
   "cell_type": "code",
   "execution_count": 22,
   "metadata": {},
   "outputs": [
    {
     "data": {
      "text/plain": [
       "(30.0, 13.999988425925926)"
      ]
     },
     "execution_count": 22,
     "metadata": {},
     "output_type": "execute_result"
    }
   ],
   "source": [
    "1800/60, 1209599/(3600*24)"
   ]
  },
  {
   "cell_type": "markdown",
   "metadata": {
    "tags": []
   },
   "source": [
    "## Exchange refresh token for a new access token"
   ]
  },
  {
   "cell_type": "code",
   "execution_count": 29,
   "metadata": {},
   "outputs": [
    {
     "data": {
      "text/plain": [
       "{'access_token': 'WN_Z4NSYd4U0KKVzGL0SFm_VISydhXmVhr8Vej6JIwghhC1Hc9ctTpKxGL-frTMykbN3EL8mOJtTgYxvdngJabhBomqe8WOdPPknHo_iOWN5MilAdBTbB9gFSmUxcXslGTUTS69EFss2-hAQgiqAVDL5hAVysrncO5FlhmSsGY0gL2JJwrd-8gU4ieBI0yrjZb_19Y-nzEDYlA6lIdRtMyQE-cUwDhLc5SFMaa_C6tV8tNuxdmG_miJMpbWPpKBHGhRZX3MvHxNsgjKxHbR3Ww..',\n",
       " 'expires_in': 1800,\n",
       " 'username': 'amani_geosaurus',\n",
       " 'ssl': True}"
      ]
     },
     "execution_count": 29,
     "metadata": {},
     "output_type": "execute_result"
    }
   ],
   "source": [
    "ref_resp = requests.post(url=exchange_url, \n",
    "                     data={'grant_type':'refresh_token',  # notice this change\n",
    "                           'refresh_token':r2['refresh_token'],\n",
    "                           'redirect_uri':redirect_url,\n",
    "                          'client_id':client_id,\n",
    "                          'client_secret':client_secret})\n",
    "ref_resp.json()"
   ]
  },
  {
   "cell_type": "markdown",
   "metadata": {},
   "source": [
    "## Resources\n",
    "\n",
    " - [https://www.youtube.com/watch?v=t0DgAMgN8VY](https://www.youtube.com/watch?v=t0DgAMgN8VY)"
   ]
  }
 ],
 "metadata": {
  "kernelspec": {
   "display_name": "Python 3",
   "language": "python",
   "name": "python3"
  },
  "language_info": {
   "codemirror_mode": {
    "name": "ipython",
    "version": 3
   },
   "file_extension": ".py",
   "mimetype": "text/x-python",
   "name": "python",
   "nbconvert_exporter": "python",
   "pygments_lexer": "ipython3",
   "version": "3.7.10"
  }
 },
 "nbformat": 4,
 "nbformat_minor": 4
}

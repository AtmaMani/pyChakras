{
 "cells": [
  {
   "cell_type": "markdown",
   "metadata": {},
   "source": [
    "# Chapter 3 - Linear regression\n",
    "Mathematically, a linear relationship between `X` and `Y` can be written as \n",
    "$$Y \\approx \\beta_{0} + \\beta_{1}X$$\n",
    "\n",
    "$\\beta_{0}$ and $\\beta_{1}$ represent the intercept and slope. They are the model coefficients or parameters. Through regression we estimate these parameters. The estimates are represented as $\\hat\\beta_{0}$ and $\\hat\\beta_{1}$. Thus,\n",
    "\n",
    "$$\\hat y = \\hat\\beta_{0} + \\hat\\beta_{1}x$$\n",
    "\n",
    "We estimate $\\hat\\beta_{0}$ and $\\hat\\beta_{1}$ using `least squared regression`. This technique forms a line that minimizes average squared error for all data points. Each point is weighed equally. If \n",
    "\n",
    "$$\\hat y_{i} = \\hat\\beta_{0} + \\hat\\beta_{1}x_{i}$$\n",
    "is the prediction for `i`th value pair of x, y, then the error is calculated as \n",
    "$$e_{i} = y_{i} - \\hat y_{i}$$. This error is also called a `residual`. This the **residual sum of squares (RSS)** is calculated as\n",
    "$$RSS = e_{1}^{2} + e_{2}^{2}... + e_{i}^{2}$$\n",
    "\n",
    "Thus if the relationship between $X$ and $Y$ is approximately linear, then we can write:\n",
    "$$Y = \\beta_{0} + \\beta_{1}X + \\epsilon$$\n",
    "\n",
    "where $\\epsilon$ is the catch-all error that is introduced in forcing a linear fit for the model. The above equation is the population regression line. In reality, this is not known (unless you synthesize data using this model). In practice, you estimate the population regression with a smaller subset of datasets.\n",
    "\n",
    "Using **Central Limit Theorem**, we know the average of a number of sample regression coefficients, predict the population coefficients pretty closely. Proof is availble [here](verifying_clt_in_regression.html)."
   ]
  },
  {
   "cell_type": "markdown",
   "metadata": {},
   "source": [
    "## Standard error\n",
    "By averaging a number of estimations of $\\hat\\beta_{0}$ and $\\hat\\beta_{1}$, we are able to estimate the population coefficients in an **unbiased** manner. Averaging will greatly reduce any systematic over or under estimations when choosing a small sample.\n",
    "\n",
    "Now, how far will a single estimate of $\\hat\\beta_{0}$ be from the actual $\\beta_{0}$? We can calculate it using **standard error**. \n",
    "\n",
    "To understand **standard error** let us consider the simple case of estimating population mean using a number of smaller samples. The standard error in a statistic (mean in this case) can be written as:\n",
    "\n",
    "$$ SE(\\hat\\mu) = \\frac{\\sigma}{\\sqrt{n}}$$\n",
    "where $\\hat\\mu$ is the estimate for which we calculate the standard error for (sample mean in this case), $\\sigma$ is the standard deviation of the **population** and $n$ is the size of the sample you draw each time.\n",
    "\n",
    "The SE of $\\hat\\mu$ is the same as the **Standard Deviation** of the sampling distribution of a number of sample means. Thus, the above equation gives the relationship between **sample mean** and **population mean** and **sample size** and how far will the sample mean be off. Thus:\n",
    "\n",
    "$$ SD(\\hat\\mu) = SE(\\hat\\mu) = \\frac{\\sigma}{\\sqrt n}$$\n",
    "\n",
    "Note, SE is likely to be smaller if you have a large sample. The value of SE is the **average amount your $\\hat\\mu$ deviates from $\\mu$**.\n",
    "\n",
    "In reality, you don't have $\\sigma$ or $\\mu$. Thus, using the SE formula, we can calculate the SD of population as:\n",
    "\n",
    "$$\\sigma = \\sigma_{\\hat\\mu}*\\sqrt n $$"
   ]
  },
  {
   "cell_type": "markdown",
   "metadata": {},
   "source": [
    "### Standard error in regression\n"
   ]
  }
 ],
 "metadata": {
  "kernelspec": {
   "display_name": "Python 3",
   "language": "python",
   "name": "python3"
  },
  "language_info": {
   "codemirror_mode": {
    "name": "ipython",
    "version": 3
   },
   "file_extension": ".py",
   "mimetype": "text/x-python",
   "name": "python",
   "nbconvert_exporter": "python",
   "pygments_lexer": "ipython3",
   "version": "3.6.5"
  }
 },
 "nbformat": 4,
 "nbformat_minor": 2
}

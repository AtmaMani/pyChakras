{
 "cells": [
  {
   "cell_type": "markdown",
   "metadata": {},
   "source": [
    "# Number system"
   ]
  },
  {
   "cell_type": "markdown",
   "metadata": {},
   "source": [
    "### Tests of divisibility\n",
    "With digital calculators and programs, this is trivial or even mundane. However, the Arabic and decimal numbering system exhibits this interesting feature where you can use shortcuts to test divisibility and find a number's factors."
   ]
  },
  {
   "cell_type": "markdown",
   "metadata": {},
   "source": [
    "|Number|Divisibility rule|\n",
    "|----|------------------------------------------------------------------|\n",
    "| 2 | Divisible, if number is even |\n",
    "| 3 | Divisible, if sum of all digits is divisible by 3 |\n",
    "| 4 | Divisible, if sum of last two digits is divisible by 4 |\n",
    "| 5 | Divisible if last digit is either 0 or 5 |\n",
    "| 6 | Divisible, if divisible by 2 and 3 |\n",
    "| 7 | Remove the last digit, double it and subtract it from now truncated number. Repeat this and if you are left with either 0 or 7, then divisible.|\n",
    "| 8 | Divisible, if the number formed by last 3 digits is divisible by 8 |\n",
    "| 9 | Divisible, if sum of digits is divisible by 9 |\n",
    "| 10 | Divisible if last digit is 0 |\n",
    "| 11 | Divisible if difference between sum of odd and alternate digits is 0 or 11 |"
   ]
  },
  {
   "cell_type": "markdown",
   "metadata": {},
   "source": [
    "**7**\n",
    "\n",
    "Remove the last digit, double it and subtract it from now truncated number. Repeat this and if you are left with either 0 or 7, then divisible.\n",
    "Example:\n",
    "    \n",
    "    1603:\n",
    "        160 - 6 = 154\n",
    "        15 - 8 = 7\n",
    "        \n",
    "        Reminder is 7, hence divisible\n",
    "\n",
    "This is interesting, lets build the multiples of seven here and observe how the lineup looks like"
   ]
  },
  {
   "cell_type": "code",
   "execution_count": 6,
   "metadata": {
    "collapsed": false
   },
   "outputs": [
    {
     "name": "stdout",
     "output_type": "stream",
     "text": [
      "1400 1407 1414 1421 1428 1435 1442 1449 1456 1463 1470 1477 1484 1491 1498 1505 1512 1519 1526 1533 1540 1547 1554 1561 1568 1575 1582 1589 1596 1603 1610 1617 1624 1631 1638 1645 1652 1659 1666 1673 "
     ]
    }
   ],
   "source": [
    "for n in range(200, 240):\n",
    "    print(7*n, end= \" \")"
   ]
  },
  {
   "cell_type": "markdown",
   "metadata": {},
   "source": [
    "Lets take higher numbers like 1610 or 1631, you dont have to iterate until you are left with 0 or 7, if you land on a multiple of 7 early on, you know for user it would end with either 0 or 7. For instance,\n",
    "\n",
    "    1631:\n",
    "        163 - 2 = 161\n",
    "        16 - 2 = 14\n",
    "        \n",
    "        You can stop with 14 and call 1631 as a multiple."
   ]
  }
 ],
 "metadata": {
  "kernelspec": {
   "display_name": "Python 3",
   "language": "python",
   "name": "python3"
  },
  "language_info": {
   "codemirror_mode": {
    "name": "ipython",
    "version": 3
   },
   "file_extension": ".py",
   "mimetype": "text/x-python",
   "name": "python",
   "nbconvert_exporter": "python",
   "pygments_lexer": "ipython3",
   "version": "3.5.2"
  }
 },
 "nbformat": 4,
 "nbformat_minor": 0
}

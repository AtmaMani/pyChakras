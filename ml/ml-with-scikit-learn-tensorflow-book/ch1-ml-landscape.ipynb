{
 "cells": [
  {
   "cell_type": "markdown",
   "metadata": {},
   "source": [
    "# The Machine Learning landscape\n",
    "\n",
    "## Types of ML systems\n",
    "You can classify the algorithms using different methods\n",
    " - whether or not trained by humans [`supervised, unsupervised, semi-supervised, reinforcement learning`]\n",
    " - whether or not they can learn incrementally on the fly [`online vs batch`]\n",
    " - whether they work by comparing test against train or by detecting patterns in train to predict the test data [`instance-based vs model-based`]"
   ]
  },
  {
   "cell_type": "markdown",
   "metadata": {},
   "source": [
    "## Classification based on training required\n",
    "### Supervised learning\n",
    "You feed labeled data to the algorithm. `Classification` and `Regression` are the kinds of problems that can be solved with supervised learning. Some popular algorithms\n",
    " - k-Nearest Neighbors (KNN)\n",
    " - Linear regression\n",
    " - Logistic regression\n",
    " - Support Vector Machines (SVM)\n",
    " - Decision Trees and Random Forests\n",
    " - Neural networks\n",
    " \n",
    "### Unsupervised learning\n",
    "Training data is unlabeled. System tries to figure out the relationships. `Clustering`, `anomaly detection` and `Dimensionality Reduction` are good problems that can be solved with this type of learning. Some popular algorithms\n",
    "\n",
    " - Clustering\n",
    "   - K-Means\n",
    "   - Hierarchical Cluster Analysis (HCA)\n",
    "   - Expectation Maximization\n",
    " - Viz and dimensionality reduction\n",
    "   - Principal Component Analysis (PCA)\n",
    "   - Kernel PCA\n",
    "   - Locally-Linear Embedding (LLE)\n",
    "   - t-distributed stochastic neighbor embedding (t-SNE)\n",
    " - Association rule learning (dig into large amounts of data, find interesting relationships b/w attributes)\n",
    "   - Apriori\n",
    "   - Eclat\n",
    "\n",
    "### Semisupervised learning\n",
    "Algorithms that can learn with partially labelled data and lots of unlabeled data. Some examples of algorithms\n",
    "\n",
    " - deep belief networks (DBN)\n",
    " - restricted boltzmann machines (RBMs)\n",
    "\n",
    "### Reinforcement learning\n",
    "Learning system (`agent`) can observe the environment, select and perform actions and get `rewards` or `penalties`. It must learn by itself to get the most reward over time (`policy`). Thus a `policy` defines what action the `agent` must take in a given situation."
   ]
  },
  {
   "cell_type": "markdown",
   "metadata": {},
   "source": [
    "## Classification based on learning rate\n",
    "### Batch learning\n"
   ]
  },
  {
   "cell_type": "code",
   "execution_count": null,
   "metadata": {
    "collapsed": true
   },
   "outputs": [],
   "source": []
  }
 ],
 "metadata": {
  "kernelspec": {
   "display_name": "Python 3",
   "language": "python",
   "name": "python3"
  },
  "language_info": {
   "codemirror_mode": {
    "name": "ipython",
    "version": 3
   },
   "file_extension": ".py",
   "mimetype": "text/x-python",
   "name": "python",
   "nbconvert_exporter": "python",
   "pygments_lexer": "ipython3",
   "version": "3.6.1"
  }
 },
 "nbformat": 4,
 "nbformat_minor": 2
}

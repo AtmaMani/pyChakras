{
 "cells": [
  {
   "cell_type": "markdown",
   "metadata": {},
   "source": [
    "# Naive Bayes classification - Sklearn\n",
    "\n",
    "Naive Bayes classifier builds directly on [conditional probability](https://atmamani.github.io/articles/ml/stat/math-practical-odyssey-1.html#Conditional-probability) and [this](https://atmamani.github.io/articles/ml/stat/03_conditional_probability.html)\n",
    "\n",
    "$$\n",
    "p(y|x) = \\frac{p(y \\cap x)}{p(x)}\n",
    "$$\n",
    "from the above formula, $p(y \\cap x)$ can be written as\n",
    "\n",
    "$$\n",
    "p(y \\cap x) = p(x | y).p(y)\n",
    "$$\n",
    "\n",
    "thus\n",
    "\n",
    "$$\n",
    "p(y|x) = \\frac{p(x|y).p(y)}{p(x)}\n",
    "$$\n"
   ]
  },
  {
   "cell_type": "markdown",
   "metadata": {},
   "source": [
    "In machine learning, Naive Bayes is used to compute conditional probability of predicted class $y$ occuring given all the predictor variables $x$. In other words, Bayes theorem relates **P(outcome/evidence)** (what we want to predict) to **P(evidence / outcome)** (training set).\n",
    "\n",
    "The algorithm builds the conditional probability and applies prediction. The algorithm is called **naive** because it assumes independence between predictor variables, while in reality this may not be true in all cases."
   ]
  },
  {
   "cell_type": "markdown",
   "metadata": {},
   "source": [
    "$$\n",
    "P(A_i | B_j) = \\frac{P(B_j | A_i)P(A_i)}{P(B_j | A_1)P(A_1) + P(B_j | A_2)P(A_2) + ... + P(B_j | A_k)P(A_k)}\n",
    "$$\n",
    "\n",
    "Consider $A_1 ,... A_k$ as $k$ predictor variables in machine learning. The Naive Bayes classifier will build the conditional probabilities of $p(B_j|A_k)$ to later predict what would $p(A_i | B_j)$ be."
   ]
  },
  {
   "cell_type": "code",
   "execution_count": null,
   "metadata": {},
   "outputs": [],
   "source": []
  }
 ],
 "metadata": {
  "kernelspec": {
   "display_name": "Python 3",
   "language": "python",
   "name": "python3"
  },
  "language_info": {
   "codemirror_mode": {
    "name": "ipython",
    "version": 3
   },
   "file_extension": ".py",
   "mimetype": "text/x-python",
   "name": "python",
   "nbconvert_exporter": "python",
   "pygments_lexer": "ipython3",
   "version": "3.6.5"
  }
 },
 "nbformat": 4,
 "nbformat_minor": 2
}
